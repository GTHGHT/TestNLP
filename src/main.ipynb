{
 "cells": [
  {
   "cell_type": "code",
   "execution_count": 48,
   "metadata": {
    "collapsed": true
   },
   "outputs": [],
   "source": [
    "import tensorflow as tf\n",
    "import numpy as np\n",
    "import pandas as pd\n",
    "from nltk.corpus import stopwords"
   ]
  },
  {
   "cell_type": "code",
   "execution_count": 49,
   "outputs": [
    {
     "data": {
      "text/plain": "   sentimen                                              Tweet\n0       0.0  barusan liat tulisan di belakang truk rela inj...\n1       0.0  her itu lho miss kevin sama keven rebutan gimb...\n2       0.0     iya rep gatau saya masih kelas sd ehh di block\n3       0.0     saya mohon tepatilah janjimu penantiancintaeps\n4       0.0  bukan beria nk kahwin sbb gatal celah kangkang...",
      "text/html": "<div>\n<style scoped>\n    .dataframe tbody tr th:only-of-type {\n        vertical-align: middle;\n    }\n\n    .dataframe tbody tr th {\n        vertical-align: top;\n    }\n\n    .dataframe thead th {\n        text-align: right;\n    }\n</style>\n<table border=\"1\" class=\"dataframe\">\n  <thead>\n    <tr style=\"text-align: right;\">\n      <th></th>\n      <th>sentimen</th>\n      <th>Tweet</th>\n    </tr>\n  </thead>\n  <tbody>\n    <tr>\n      <th>0</th>\n      <td>0.0</td>\n      <td>barusan liat tulisan di belakang truk rela inj...</td>\n    </tr>\n    <tr>\n      <th>1</th>\n      <td>0.0</td>\n      <td>her itu lho miss kevin sama keven rebutan gimb...</td>\n    </tr>\n    <tr>\n      <th>2</th>\n      <td>0.0</td>\n      <td>iya rep gatau saya masih kelas sd ehh di block</td>\n    </tr>\n    <tr>\n      <th>3</th>\n      <td>0.0</td>\n      <td>saya mohon tepatilah janjimu penantiancintaeps</td>\n    </tr>\n    <tr>\n      <th>4</th>\n      <td>0.0</td>\n      <td>bukan beria nk kahwin sbb gatal celah kangkang...</td>\n    </tr>\n  </tbody>\n</table>\n</div>"
     },
     "execution_count": 49,
     "metadata": {},
     "output_type": "execute_result"
    }
   ],
   "source": [
    "df = pd.read_csv('cleaned_twitter.csv')\n",
    "df.head()"
   ],
   "metadata": {
    "collapsed": false
   }
  },
  {
   "cell_type": "code",
   "execution_count": 50,
   "outputs": [
    {
     "data": {
      "text/plain": "sentimen      0\nTweet       300\ndtype: int64"
     },
     "execution_count": 50,
     "metadata": {},
     "output_type": "execute_result"
    }
   ],
   "source": [
    "# Checking for null values\n",
    "df.isna().sum()"
   ],
   "metadata": {
    "collapsed": false
   }
  },
  {
   "cell_type": "code",
   "execution_count": 51,
   "outputs": [],
   "source": [
    "# Import Module\n",
    "from sklearn.impute import SimpleImputer\n",
    "\n",
    "# Pembuatan Imputation dengan pengganti modus\n",
    "impute_modes = SimpleImputer(strategy='most_frequent')\n",
    "\n",
    "df['Tweet'] = impute_modes.fit_transform(df[['Tweet']])"
   ],
   "metadata": {
    "collapsed": false
   }
  },
  {
   "cell_type": "code",
   "execution_count": 52,
   "outputs": [
    {
     "data": {
      "text/plain": "sentimen    0\nTweet       0\ndtype: int64"
     },
     "execution_count": 52,
     "metadata": {},
     "output_type": "execute_result"
    }
   ],
   "source": [
    "# Checking for null values\n",
    "df.isna().sum()"
   ],
   "metadata": {
    "collapsed": false
   }
  },
  {
   "cell_type": "code",
   "execution_count": 53,
   "outputs": [
    {
     "data": {
      "text/plain": "0    barusan liat tulisan di belakang truk rela inj...\n1    her itu lho miss kevin sama keven rebutan gimb...\n2       iya rep gatau saya masih kelas sd ehh di block\n3       saya mohon tepatilah janjimu penantiancintaeps\n4    bukan beria nk kahwin sbb gatal celah kangkang...\nName: Tweet, dtype: object"
     },
     "execution_count": 53,
     "metadata": {},
     "output_type": "execute_result"
    }
   ],
   "source": [
    "tweets = df['Tweet']\n",
    "tweets.head()"
   ],
   "metadata": {
    "collapsed": false
   }
  },
  {
   "cell_type": "code",
   "execution_count": 54,
   "outputs": [
    {
     "name": "stdout",
     "output_type": "stream",
     "text": [
      "max_len=39\n",
      "max_words='sejukatgasnusantaraatgasnusantarakaltim'\n",
      "len(unique_words)=23846\n"
     ]
    }
   ],
   "source": [
    "max_len = 0\n",
    "max_words = ''\n",
    "unique_words = set()\n",
    "for tweet in tweets.str.split():\n",
    "    if not tweet:\n",
    "        continue\n",
    "    tweet_max = max(tweet, key=len)\n",
    "    unique_words.update(tweet)\n",
    "    if max_len < len(tweet_max):\n",
    "        max_len = len(tweet_max)\n",
    "        max_words = tweet_max\n",
    "\n",
    "print(f\"{max_len=}\\n{max_words=}\\n{len(unique_words)=}\")"
   ],
   "metadata": {
    "collapsed": false
   }
  },
  {
   "cell_type": "code",
   "execution_count": 55,
   "outputs": [
    {
     "data": {
      "text/plain": "{'ada',\n 'adalah',\n 'adanya',\n 'adapun',\n 'agak',\n 'agaknya',\n 'agar',\n 'akan',\n 'akankah',\n 'akhir',\n 'akhiri',\n 'akhirnya',\n 'aku',\n 'akulah',\n 'amat',\n 'amatlah',\n 'anda',\n 'andalah',\n 'antar',\n 'antara',\n 'antaranya',\n 'apa',\n 'apaan',\n 'apabila',\n 'apakah',\n 'apalagi',\n 'apatah',\n 'artinya',\n 'asal',\n 'asalkan',\n 'atas',\n 'atau',\n 'ataukah',\n 'ataupun',\n 'awal',\n 'awalnya',\n 'bagai',\n 'bagaikan',\n 'bagaimana',\n 'bagaimanakah',\n 'bagaimanapun',\n 'bagi',\n 'bagian',\n 'bahkan',\n 'bahwa',\n 'bahwasanya',\n 'baik',\n 'bakal',\n 'bakalan',\n 'balik',\n 'banyak',\n 'bapak',\n 'baru',\n 'bawah',\n 'beberapa',\n 'begini',\n 'beginian',\n 'beginikah',\n 'beginilah',\n 'begitu',\n 'begitukah',\n 'begitulah',\n 'begitupun',\n 'bekerja',\n 'belakang',\n 'belakangan',\n 'belum',\n 'belumlah',\n 'benar',\n 'benarkah',\n 'benarlah',\n 'berada',\n 'berakhir',\n 'berakhirlah',\n 'berakhirnya',\n 'berapa',\n 'berapakah',\n 'berapalah',\n 'berapapun',\n 'berarti',\n 'berawal',\n 'berbagai',\n 'berdatangan',\n 'beri',\n 'berikan',\n 'berikut',\n 'berikutnya',\n 'berjumlah',\n 'berkali-kali',\n 'berkata',\n 'berkehendak',\n 'berkeinginan',\n 'berkenaan',\n 'berlainan',\n 'berlalu',\n 'berlangsung',\n 'berlebihan',\n 'bermacam',\n 'bermacam-macam',\n 'bermaksud',\n 'bermula',\n 'bersama',\n 'bersama-sama',\n 'bersiap',\n 'bersiap-siap',\n 'bertanya',\n 'bertanya-tanya',\n 'berturut',\n 'berturut-turut',\n 'bertutur',\n 'berujar',\n 'berupa',\n 'besar',\n 'betul',\n 'betulkah',\n 'biasa',\n 'biasanya',\n 'bila',\n 'bilakah',\n 'bisa',\n 'bisakah',\n 'boleh',\n 'bolehkah',\n 'bolehlah',\n 'buat',\n 'bukan',\n 'bukankah',\n 'bukanlah',\n 'bukannya',\n 'bulan',\n 'bung',\n 'cara',\n 'caranya',\n 'cukup',\n 'cukupkah',\n 'cukuplah',\n 'cuma',\n 'dahulu',\n 'dalam',\n 'dan',\n 'dapat',\n 'dari',\n 'daripada',\n 'datang',\n 'dekat',\n 'demi',\n 'demikian',\n 'demikianlah',\n 'dengan',\n 'depan',\n 'di',\n 'dia',\n 'diakhiri',\n 'diakhirinya',\n 'dialah',\n 'diantara',\n 'diantaranya',\n 'diberi',\n 'diberikan',\n 'diberikannya',\n 'dibuat',\n 'dibuatnya',\n 'didapat',\n 'didatangkan',\n 'digunakan',\n 'diibaratkan',\n 'diibaratkannya',\n 'diingat',\n 'diingatkan',\n 'diinginkan',\n 'dijawab',\n 'dijelaskan',\n 'dijelaskannya',\n 'dikarenakan',\n 'dikatakan',\n 'dikatakannya',\n 'dikerjakan',\n 'diketahui',\n 'diketahuinya',\n 'dikira',\n 'dilakukan',\n 'dilalui',\n 'dilihat',\n 'dimaksud',\n 'dimaksudkan',\n 'dimaksudkannya',\n 'dimaksudnya',\n 'diminta',\n 'dimintai',\n 'dimisalkan',\n 'dimulai',\n 'dimulailah',\n 'dimulainya',\n 'dimungkinkan',\n 'dini',\n 'dipastikan',\n 'diperbuat',\n 'diperbuatnya',\n 'dipergunakan',\n 'diperkirakan',\n 'diperlihatkan',\n 'diperlukan',\n 'diperlukannya',\n 'dipersoalkan',\n 'dipertanyakan',\n 'dipunyai',\n 'diri',\n 'dirinya',\n 'disampaikan',\n 'disebut',\n 'disebutkan',\n 'disebutkannya',\n 'disini',\n 'disinilah',\n 'ditambahkan',\n 'ditandaskan',\n 'ditanya',\n 'ditanyai',\n 'ditanyakan',\n 'ditegaskan',\n 'ditujukan',\n 'ditunjuk',\n 'ditunjuki',\n 'ditunjukkan',\n 'ditunjukkannya',\n 'ditunjuknya',\n 'dituturkan',\n 'dituturkannya',\n 'diucapkan',\n 'diucapkannya',\n 'diungkapkan',\n 'dong',\n 'dua',\n 'dulu',\n 'empat',\n 'enggak',\n 'enggaknya',\n 'entah',\n 'entahlah',\n 'guna',\n 'gunakan',\n 'hal',\n 'hampir',\n 'hanya',\n 'hanyalah',\n 'hari',\n 'harus',\n 'haruslah',\n 'harusnya',\n 'hendak',\n 'hendaklah',\n 'hendaknya',\n 'hingga',\n 'ia',\n 'ialah',\n 'ibarat',\n 'ibaratkan',\n 'ibaratnya',\n 'ibu',\n 'ikut',\n 'ingat',\n 'ingat-ingat',\n 'ingin',\n 'inginkah',\n 'inginkan',\n 'ini',\n 'inikah',\n 'inilah',\n 'itu',\n 'itukah',\n 'itulah',\n 'jadi',\n 'jadilah',\n 'jadinya',\n 'jangan',\n 'jangankan',\n 'janganlah',\n 'jauh',\n 'jawab',\n 'jawaban',\n 'jawabnya',\n 'jelas',\n 'jelaskan',\n 'jelaslah',\n 'jelasnya',\n 'jika',\n 'jikalau',\n 'juga',\n 'jumlah',\n 'jumlahnya',\n 'justru',\n 'kala',\n 'kalau',\n 'kalaulah',\n 'kalaupun',\n 'kalian',\n 'kami',\n 'kamilah',\n 'kamu',\n 'kamulah',\n 'kan',\n 'kapan',\n 'kapankah',\n 'kapanpun',\n 'karena',\n 'karenanya',\n 'kasus',\n 'kata',\n 'katakan',\n 'katakanlah',\n 'katanya',\n 'ke',\n 'keadaan',\n 'kebetulan',\n 'kecil',\n 'kedua',\n 'keduanya',\n 'keinginan',\n 'kelamaan',\n 'kelihatan',\n 'kelihatannya',\n 'kelima',\n 'keluar',\n 'kembali',\n 'kemudian',\n 'kemungkinan',\n 'kemungkinannya',\n 'kenapa',\n 'kepada',\n 'kepadanya',\n 'kesampaian',\n 'keseluruhan',\n 'keseluruhannya',\n 'keterlaluan',\n 'ketika',\n 'khususnya',\n 'kini',\n 'kinilah',\n 'kira',\n 'kira-kira',\n 'kiranya',\n 'kita',\n 'kitalah',\n 'kok',\n 'kurang',\n 'lagi',\n 'lagian',\n 'lah',\n 'lain',\n 'lainnya',\n 'lalu',\n 'lama',\n 'lamanya',\n 'lanjut',\n 'lanjutnya',\n 'lebih',\n 'lewat',\n 'lima',\n 'luar',\n 'macam',\n 'maka',\n 'makanya',\n 'makin',\n 'malah',\n 'malahan',\n 'mampu',\n 'mampukah',\n 'mana',\n 'manakala',\n 'manalagi',\n 'masa',\n 'masalah',\n 'masalahnya',\n 'masih',\n 'masihkah',\n 'masing',\n 'masing-masing',\n 'mau',\n 'maupun',\n 'melainkan',\n 'melakukan',\n 'melalui',\n 'melihat',\n 'melihatnya',\n 'memang',\n 'memastikan',\n 'memberi',\n 'memberikan',\n 'membuat',\n 'memerlukan',\n 'memihak',\n 'meminta',\n 'memintakan',\n 'memisalkan',\n 'memperbuat',\n 'mempergunakan',\n 'memperkirakan',\n 'memperlihatkan',\n 'mempersiapkan',\n 'mempersoalkan',\n 'mempertanyakan',\n 'mempunyai',\n 'memulai',\n 'memungkinkan',\n 'menaiki',\n 'menambahkan',\n 'menandaskan',\n 'menanti',\n 'menanti-nanti',\n 'menantikan',\n 'menanya',\n 'menanyai',\n 'menanyakan',\n 'mendapat',\n 'mendapatkan',\n 'mendatang',\n 'mendatangi',\n 'mendatangkan',\n 'menegaskan',\n 'mengakhiri',\n 'mengapa',\n 'mengatakan',\n 'mengatakannya',\n 'mengenai',\n 'mengerjakan',\n 'mengetahui',\n 'menggunakan',\n 'menghendaki',\n 'mengibaratkan',\n 'mengibaratkannya',\n 'mengingat',\n 'mengingatkan',\n 'menginginkan',\n 'mengira',\n 'mengucapkan',\n 'mengucapkannya',\n 'mengungkapkan',\n 'menjadi',\n 'menjawab',\n 'menjelaskan',\n 'menuju',\n 'menunjuk',\n 'menunjuki',\n 'menunjukkan',\n 'menunjuknya',\n 'menurut',\n 'menuturkan',\n 'menyampaikan',\n 'menyangkut',\n 'menyatakan',\n 'menyebutkan',\n 'menyeluruh',\n 'menyiapkan',\n 'merasa',\n 'mereka',\n 'merekalah',\n 'merupakan',\n 'meski',\n 'meskipun',\n 'meyakini',\n 'meyakinkan',\n 'minta',\n 'mirip',\n 'misal',\n 'misalkan',\n 'misalnya',\n 'mula',\n 'mulai',\n 'mulailah',\n 'mulanya',\n 'mungkin',\n 'mungkinkah',\n 'nah',\n 'naik',\n 'namun',\n 'nanti',\n 'nantinya',\n 'nyaris',\n 'nyatanya',\n 'oleh',\n 'olehnya',\n 'pada',\n 'padahal',\n 'padanya',\n 'pak',\n 'paling',\n 'panjang',\n 'pantas',\n 'para',\n 'pasti',\n 'pastilah',\n 'penting',\n 'pentingnya',\n 'per',\n 'percuma',\n 'perlu',\n 'perlukah',\n 'perlunya',\n 'pernah',\n 'persoalan',\n 'pertama',\n 'pertama-tama',\n 'pertanyaan',\n 'pertanyakan',\n 'pihak',\n 'pihaknya',\n 'pukul',\n 'pula',\n 'pun',\n 'punya',\n 'rasa',\n 'rasanya',\n 'rata',\n 'rupanya',\n 'saat',\n 'saatnya',\n 'saja',\n 'sajalah',\n 'saling',\n 'sama',\n 'sama-sama',\n 'sambil',\n 'sampai',\n 'sampai-sampai',\n 'sampaikan',\n 'sana',\n 'sangat',\n 'sangatlah',\n 'satu',\n 'saya',\n 'sayalah',\n 'se',\n 'sebab',\n 'sebabnya',\n 'sebagai',\n 'sebagaimana',\n 'sebagainya',\n 'sebagian',\n 'sebaik',\n 'sebaik-baiknya',\n 'sebaiknya',\n 'sebaliknya',\n 'sebanyak',\n 'sebegini',\n 'sebegitu',\n 'sebelum',\n 'sebelumnya',\n 'sebenarnya',\n 'seberapa',\n 'sebesar',\n 'sebetulnya',\n 'sebisanya',\n 'sebuah',\n 'sebut',\n 'sebutlah',\n 'sebutnya',\n 'secara',\n 'secukupnya',\n 'sedang',\n 'sedangkan',\n 'sedemikian',\n 'sedikit',\n 'sedikitnya',\n 'seenaknya',\n 'segala',\n 'segalanya',\n 'segera',\n 'seharusnya',\n 'sehingga',\n 'seingat',\n 'sejak',\n 'sejauh',\n 'sejenak',\n 'sejumlah',\n 'sekadar',\n 'sekadarnya',\n 'sekali',\n 'sekali-kali',\n 'sekalian',\n 'sekaligus',\n 'sekalipun',\n 'sekarang',\n 'sekecil',\n 'seketika',\n 'sekiranya',\n 'sekitar',\n 'sekitarnya',\n 'sekurang-kurangnya',\n 'sekurangnya',\n 'sela',\n 'selain',\n 'selaku',\n 'selalu',\n 'selama',\n 'selama-lamanya',\n 'selamanya',\n 'selanjutnya',\n 'seluruh',\n 'seluruhnya',\n 'semacam',\n 'semakin',\n 'semampu',\n 'semampunya',\n 'semasa',\n 'semasih',\n 'semata',\n 'semata-mata',\n 'semaunya',\n 'sementara',\n 'semisal',\n 'semisalnya',\n 'sempat',\n 'semua',\n 'semuanya',\n 'semula',\n 'sendiri',\n 'sendirian',\n 'sendirinya',\n 'seolah',\n 'seolah-olah',\n 'seorang',\n 'sepanjang',\n 'sepantasnya',\n 'sepantasnyalah',\n 'seperlunya',\n 'seperti',\n 'sepertinya',\n 'sepihak',\n 'sering',\n 'seringnya',\n 'serta',\n 'serupa',\n 'sesaat',\n 'sesama',\n 'sesampai',\n 'sesegera',\n 'sesekali',\n 'seseorang',\n 'sesuatu',\n 'sesuatunya',\n 'sesudah',\n 'sesudahnya',\n 'setelah',\n 'setempat',\n 'setengah',\n 'seterusnya',\n 'setiap',\n 'setiba',\n 'setibanya',\n 'setidak-tidaknya',\n 'setidaknya',\n 'setinggi',\n 'seusai',\n 'sewaktu',\n 'siap',\n 'siapa',\n 'siapakah',\n 'siapapun',\n 'sini',\n 'sinilah',\n 'soal',\n 'soalnya',\n 'suatu',\n 'sudah',\n 'sudahkah',\n 'sudahlah',\n 'supaya',\n 'tadi',\n 'tadinya',\n 'tahu',\n 'tahun',\n 'tak',\n 'tambah',\n 'tambahnya',\n 'tampak',\n 'tampaknya',\n 'tandas',\n 'tandasnya',\n 'tanpa',\n 'tanya',\n 'tanyakan',\n 'tanyanya',\n 'tapi',\n 'tegas',\n 'tegasnya',\n 'telah',\n 'tempat',\n 'tengah',\n 'tentang',\n 'tentu',\n 'tentulah',\n 'tentunya',\n 'tepat',\n 'terakhir',\n 'terasa',\n 'terbanyak',\n 'terdahulu',\n 'terdapat',\n 'terdiri',\n 'terhadap',\n 'terhadapnya',\n 'teringat',\n 'teringat-ingat',\n 'terjadi',\n 'terjadilah',\n 'terjadinya',\n 'terkira',\n 'terlalu',\n 'terlebih',\n 'terlihat',\n 'termasuk',\n 'ternyata',\n 'tersampaikan',\n 'tersebut',\n 'tersebutlah',\n 'tertentu',\n 'tertuju',\n 'terus',\n 'terutama',\n 'tetap',\n 'tetapi',\n 'tiap',\n 'tiba',\n 'tiba-tiba',\n 'tidak',\n 'tidakkah',\n 'tidaklah',\n 'tiga',\n 'tinggi',\n 'toh',\n 'tunjuk',\n 'turut',\n 'tutur',\n 'tuturnya',\n 'ucap',\n 'ucapnya',\n 'ujar',\n 'ujarnya',\n 'umum',\n 'umumnya',\n 'ungkap',\n 'ungkapnya',\n 'untuk',\n 'usah',\n 'usai',\n 'waduh',\n 'wah',\n 'wahai',\n 'waktu',\n 'waktunya',\n 'walau',\n 'walaupun',\n 'wong',\n 'yaitu',\n 'yakin',\n 'yakni',\n 'yang'}"
     },
     "execution_count": 55,
     "metadata": {},
     "output_type": "execute_result"
    }
   ],
   "source": [
    "stopwords_list = stopwords.words('indonesian')\n",
    "\n",
    "# convert list to dictionary\n",
    "list_stopwords = set(stopwords_list)\n",
    "list_stopwords"
   ],
   "metadata": {
    "collapsed": false
   }
  },
  {
   "cell_type": "code",
   "execution_count": 56,
   "outputs": [
    {
     "data": {
      "text/plain": "0    barusan liat tulisan di belakang truk rela inj...\n1    her itu lho miss kevin sama keven rebutan gimb...\n2       iya rep gatau saya masih kelas sd ehh di block\n3       saya mohon tepatilah janjimu penantiancintaeps\n4    bukan beria nk kahwin sbb gatal celah kangkang...\nName: Tweet, dtype: object"
     },
     "execution_count": 56,
     "metadata": {},
     "output_type": "execute_result"
    }
   ],
   "source": [
    "#remove stopword pada list token\n",
    "def stopwords_removal(words):\n",
    "    # word_list = []\n",
    "    # for word in words.split():\n",
    "    #     if word not in list_stopwords:\n",
    "    #         word_list.extend(list(word))\n",
    "    #         word_list.append(' ')\n",
    "    # if word_list:\n",
    "    #     word_list.pop()\n",
    "    # return word_list\n",
    "    return ''.join([word for word in words if word not in list_stopwords])\n",
    "\n",
    "tweets = tweets.apply(stopwords_removal)\n",
    "tweets.head()"
   ],
   "metadata": {
    "collapsed": false
   }
  },
  {
   "cell_type": "code",
   "execution_count": 57,
   "outputs": [
    {
     "data": {
      "text/plain": "sentimen    0\nTweet       0\ndtype: int64"
     },
     "execution_count": 57,
     "metadata": {},
     "output_type": "execute_result"
    }
   ],
   "source": [
    "# Checking for null values\n",
    "df.isna().sum()"
   ],
   "metadata": {
    "collapsed": false
   }
  },
  {
   "cell_type": "code",
   "execution_count": 58,
   "outputs": [
    {
     "data": {
      "text/plain": "   sentimen                                              Tweet\n0       0.0  barusan liat tulisan di belakang truk rela inj...\n1       0.0  her itu lho miss kevin sama keven rebutan gimb...\n2       0.0     iya rep gatau saya masih kelas sd ehh di block\n3       0.0     saya mohon tepatilah janjimu penantiancintaeps\n4       0.0  bukan beria nk kahwin sbb gatal celah kangkang...",
      "text/html": "<div>\n<style scoped>\n    .dataframe tbody tr th:only-of-type {\n        vertical-align: middle;\n    }\n\n    .dataframe tbody tr th {\n        vertical-align: top;\n    }\n\n    .dataframe thead th {\n        text-align: right;\n    }\n</style>\n<table border=\"1\" class=\"dataframe\">\n  <thead>\n    <tr style=\"text-align: right;\">\n      <th></th>\n      <th>sentimen</th>\n      <th>Tweet</th>\n    </tr>\n  </thead>\n  <tbody>\n    <tr>\n      <th>0</th>\n      <td>0.0</td>\n      <td>barusan liat tulisan di belakang truk rela inj...</td>\n    </tr>\n    <tr>\n      <th>1</th>\n      <td>0.0</td>\n      <td>her itu lho miss kevin sama keven rebutan gimb...</td>\n    </tr>\n    <tr>\n      <th>2</th>\n      <td>0.0</td>\n      <td>iya rep gatau saya masih kelas sd ehh di block</td>\n    </tr>\n    <tr>\n      <th>3</th>\n      <td>0.0</td>\n      <td>saya mohon tepatilah janjimu penantiancintaeps</td>\n    </tr>\n    <tr>\n      <th>4</th>\n      <td>0.0</td>\n      <td>bukan beria nk kahwin sbb gatal celah kangkang...</td>\n    </tr>\n  </tbody>\n</table>\n</div>"
     },
     "execution_count": 58,
     "metadata": {},
     "output_type": "execute_result"
    }
   ],
   "source": [
    "df['Tweet'] = tweets\n",
    "df.head()"
   ],
   "metadata": {
    "collapsed": false
   }
  },
  {
   "cell_type": "code",
   "execution_count": 59,
   "outputs": [
    {
     "name": "stdout",
     "output_type": "stream",
     "text": [
      "[[1. 0. 0.]\n",
      " [1. 0. 0.]\n",
      " [1. 0. 0.]\n",
      " [1. 0. 0.]\n",
      " [1. 0. 0.]\n",
      " [1. 0. 0.]\n",
      " [1. 0. 0.]\n",
      " [1. 0. 0.]\n",
      " [1. 0. 0.]\n",
      " [1. 0. 0.]]\n"
     ]
    }
   ],
   "source": [
    "from sklearn.preprocessing import LabelEncoder\n",
    "from tensorflow.keras.utils import to_categorical\n",
    "\n",
    "y = df[\"sentimen\"]\n",
    "#mengubah y menjadi integer\n",
    "label_encoder = LabelEncoder()\n",
    "y = label_encoder.fit_transform(y)\n",
    "y = to_categorical(y)\n",
    "print(y[0:10])"
   ],
   "metadata": {
    "collapsed": false
   }
  },
  {
   "cell_type": "code",
   "execution_count": 60,
   "outputs": [],
   "source": [
    "from tensorflow.keras.preprocessing.text import Tokenizer\n",
    "\n",
    "# Tokenisasi\n",
    "tokenizer = Tokenizer()\n",
    "tokenizer.fit_on_texts(tweets)"
   ],
   "metadata": {
    "collapsed": false
   }
  },
  {
   "cell_type": "code",
   "execution_count": 61,
   "outputs": [
    {
     "name": "stdout",
     "output_type": "stream",
     "text": [
      "Dataset has 23846 number of independent tokens\n"
     ]
    }
   ],
   "source": [
    "word2vec=tokenizer.word_index\n",
    "V=len(word2vec)\n",
    "print('Dataset has %s number of independent tokens' %V)"
   ],
   "metadata": {
    "collapsed": false
   }
  },
  {
   "cell_type": "code",
   "execution_count": 62,
   "outputs": [
    {
     "name": "stdout",
     "output_type": "stream",
     "text": [
      "[[1890, 145, 756, 7, 559, 1891, 1304, 6290, 6291, 493, 3, 30, 3642], [1159, 10, 697, 935, 3643, 34, 4606, 3644, 4607, 20, 1892, 1, 135, 1012, 463, 3645, 196, 4608, 2, 395, 147, 4609, 4610], [137, 629, 657, 1, 50, 582, 2085, 1230, 7, 1893], [1, 346, 6292, 3646, 3647], [43, 1894, 175, 630, 302, 1730, 3648, 9813, 16, 494, 87, 163, 5, 12, 677, 1, 23, 4611, 507, 164, 203, 6293], [1, 1052, 6294, 131, 1305, 1377, 11, 144, 4612, 2, 32, 1305, 208], [1, 154, 757, 134, 43, 9814, 9815, 77, 22, 72, 72, 9816, 82, 49, 158], [2, 1, 272, 3649, 27, 159, 2, 867, 2630, 1306, 482, 61, 117, 372, 16, 1053, 2308, 560, 243, 21], [3, 14, 8, 9817, 22, 1, 69], [2, 319, 13, 9818, 307, 27, 1, 111, 431, 2, 31, 1895]]\n"
     ]
    }
   ],
   "source": [
    "#fit_on_texts() menciptakan hubungan antara kata-kata dan bilangan-bilangan yg di-assign\n",
    "#hubungan ini disimpan dalam dictionary dalam tokenizer.word_index\n",
    "#kata-kata harus diganti dengan bilangan-bilangan yang di-assign\n",
    "encoded_comments = tokenizer.texts_to_sequences(tweets)\n",
    "print(encoded_comments[0:10])"
   ],
   "metadata": {
    "collapsed": false
   }
  },
  {
   "cell_type": "code",
   "execution_count": 63,
   "outputs": [],
   "source": [
    "from tensorflow.keras.preprocessing.sequence import pad_sequences\n",
    "def get_sequences(tokenizer, tweets):\n",
    "    sequences = tokenizer.texts_to_sequences(tweets)\n",
    "    padded = pad_sequences(sequences, truncating = 'post', padding='post', maxlen=max_len)\n",
    "    return padded\n",
    "X = get_sequences(tokenizer, tweets)"
   ],
   "metadata": {
    "collapsed": false
   }
  },
  {
   "cell_type": "code",
   "execution_count": 64,
   "outputs": [
    {
     "name": "stdout",
     "output_type": "stream",
     "text": [
      "Shape of X is  (12308, 39)\n",
      "Shape of y is (12308, 3)\n"
     ]
    }
   ],
   "source": [
    "print('Shape of X is ', X.shape)\n",
    "print('Shape of y is', y.shape)"
   ],
   "metadata": {
    "collapsed": false
   }
  },
  {
   "cell_type": "code",
   "execution_count": null,
   "outputs": [],
   "source": [
    "from sklearn.model_selection import train_test_split\n",
    "x_train, x_test, y_train, y_test = train_test_split(X, y, test_size = 0.2, stratify = y)"
   ],
   "metadata": {
    "collapsed": false
   }
  },
  {
   "cell_type": "code",
   "execution_count": 68,
   "outputs": [
    {
     "name": "stdout",
     "output_type": "stream",
     "text": [
      "Bentuk X_train = (9846, 39)\n",
      "Bentuk Y_train = (9846, 3)\n",
      "Bentuk X_test = (2462, 39)\n",
      "Bentuk Y_test = (2462, 3)\n"
     ]
    }
   ],
   "source": [
    "print(f'Bentuk X_train = {x_train.shape}',\n",
    "      f'Bentuk Y_train = {y_train.shape}',\n",
    "      f'Bentuk X_test = {x_test.shape}',\n",
    "      f'Bentuk Y_test = {y_test.shape}', sep=\"\\n\")"
   ],
   "metadata": {
    "collapsed": false
   }
  },
  {
   "cell_type": "code",
   "execution_count": null,
   "outputs": [],
   "source": [
    "x_train = x_train.astype('float32')\n",
    "x_test = x_test.astype('float32')\n",
    "x_train /= 255.0\n",
    "x_test /= 255.0"
   ],
   "metadata": {
    "collapsed": false
   }
  },
  {
   "cell_type": "code",
   "execution_count": 69,
   "outputs": [
    {
     "data": {
      "text/plain": "array([[7.1647058e+00, 1.1764706e-02, 4.9411764e+00, ..., 0.0000000e+00,\n        0.0000000e+00, 0.0000000e+00],\n       [7.9019608e+00, 3.5941177e+01, 4.8117647e+00, ..., 0.0000000e+00,\n        0.0000000e+00, 0.0000000e+00],\n       [5.1529412e+00, 5.5294120e-01, 1.4133333e+01, ..., 6.3058825e+00,\n        1.7294117e+00, 5.7411766e+00],\n       ...,\n       [1.5254902e+00, 6.7843137e+00, 8.6666667e-01, ..., 0.0000000e+00,\n        0.0000000e+00, 0.0000000e+00],\n       [2.3647058e+00, 3.4901962e-01, 4.7058824e-02, ..., 0.0000000e+00,\n        0.0000000e+00, 0.0000000e+00],\n       [3.9215689e-03, 1.2470589e+00, 2.3137255e-01, ..., 0.0000000e+00,\n        0.0000000e+00, 0.0000000e+00]], dtype=float32)"
     },
     "execution_count": 69,
     "metadata": {},
     "output_type": "execute_result"
    }
   ],
   "source": [],
   "metadata": {
    "collapsed": false
   }
  },
  {
   "cell_type": "code",
   "execution_count": 77,
   "outputs": [],
   "source": [
    "from tensorflow.keras.layers import Dense, Embedding,LSTM, Dropout, Bidirectional\n",
    "from tensorflow.keras import Sequential\n",
    "model = Sequential([\n",
    "Embedding(10000,16,input_length=max_len),\n",
    "Bidirectional(LSTM(20, return_sequences=True)),\n",
    "Bidirectional(LSTM(20)),\n",
    "Dense(3, activation='softmax')\n",
    "])\n",
    "model.compile(\n",
    "     loss='categorical_crossentropy',\n",
    "     optimizer='adam',\n",
    "     metrics=['accuracy']\n",
    ")"
   ],
   "metadata": {
    "collapsed": false
   }
  },
  {
   "cell_type": "code",
   "execution_count": 78,
   "outputs": [
    {
     "name": "stdout",
     "output_type": "stream",
     "text": [
      "Epoch 1/20\n",
      "308/308 [==============================] - 18s 38ms/step - loss: 0.7974 - accuracy: 0.6005 - val_loss: 0.6281 - val_accuracy: 0.6677\n",
      "Epoch 2/20\n",
      "308/308 [==============================] - 10s 32ms/step - loss: 0.4442 - accuracy: 0.7987 - val_loss: 0.4281 - val_accuracy: 0.8071\n",
      "Epoch 3/20\n",
      "308/308 [==============================] - 11s 34ms/step - loss: 0.4192 - accuracy: 0.8087 - val_loss: 0.4309 - val_accuracy: 0.8034\n",
      "Epoch 4/20\n",
      "308/308 [==============================] - 11s 36ms/step - loss: 0.4072 - accuracy: 0.8125 - val_loss: 0.4181 - val_accuracy: 0.8136\n",
      "Epoch 5/20\n",
      "308/308 [==============================] - 11s 37ms/step - loss: 0.4051 - accuracy: 0.8154 - val_loss: 0.4160 - val_accuracy: 0.8172\n",
      "Epoch 6/20\n",
      "308/308 [==============================] - 10s 34ms/step - loss: 0.4022 - accuracy: 0.8131 - val_loss: 0.4186 - val_accuracy: 0.8132\n",
      "Epoch 7/20\n",
      "308/308 [==============================] - 11s 34ms/step - loss: 0.3963 - accuracy: 0.8182 - val_loss: 0.4098 - val_accuracy: 0.8148\n",
      "Epoch 8/20\n",
      "308/308 [==============================] - 10s 34ms/step - loss: 0.3958 - accuracy: 0.8171 - val_loss: 0.4109 - val_accuracy: 0.8176\n",
      "Epoch 9/20\n",
      "308/308 [==============================] - 11s 35ms/step - loss: 0.3915 - accuracy: 0.8199 - val_loss: 0.4099 - val_accuracy: 0.8172\n",
      "Epoch 10/20\n",
      "308/308 [==============================] - 12s 39ms/step - loss: 0.3908 - accuracy: 0.8202 - val_loss: 0.4099 - val_accuracy: 0.8180\n",
      "Epoch 11/20\n",
      "308/308 [==============================] - 10s 34ms/step - loss: 0.3895 - accuracy: 0.8191 - val_loss: 0.4098 - val_accuracy: 0.8115\n",
      "Epoch 12/20\n",
      "308/308 [==============================] - 11s 34ms/step - loss: 0.3878 - accuracy: 0.8195 - val_loss: 0.4034 - val_accuracy: 0.8136\n",
      "Epoch 13/20\n",
      "308/308 [==============================] - 10s 34ms/step - loss: 0.3843 - accuracy: 0.8211 - val_loss: 0.4069 - val_accuracy: 0.8115\n",
      "Epoch 14/20\n",
      "308/308 [==============================] - 11s 36ms/step - loss: 0.3856 - accuracy: 0.8198 - val_loss: 0.4086 - val_accuracy: 0.8160\n",
      "Epoch 15/20\n",
      "308/308 [==============================] - 10s 34ms/step - loss: 0.3847 - accuracy: 0.8197 - val_loss: 0.4076 - val_accuracy: 0.8249\n",
      "Epoch 16/20\n",
      "308/308 [==============================] - 11s 35ms/step - loss: 0.3814 - accuracy: 0.8229 - val_loss: 0.4005 - val_accuracy: 0.8233\n",
      "Epoch 17/20\n",
      "308/308 [==============================] - 11s 35ms/step - loss: 0.3803 - accuracy: 0.8202 - val_loss: 0.4019 - val_accuracy: 0.8201\n",
      "Epoch 18/20\n",
      "308/308 [==============================] - 10s 34ms/step - loss: 0.3807 - accuracy: 0.8251 - val_loss: 0.4046 - val_accuracy: 0.8152\n",
      "Epoch 19/20\n",
      "308/308 [==============================] - 11s 35ms/step - loss: 0.3790 - accuracy: 0.8226 - val_loss: 0.4044 - val_accuracy: 0.8262\n",
      "Epoch 20/20\n",
      "308/308 [==============================] - 10s 34ms/step - loss: 0.3777 - accuracy: 0.8257 - val_loss: 0.4024 - val_accuracy: 0.8205\n"
     ]
    }
   ],
   "source": [
    "h = model.fit(\n",
    "     x_train, y_train,\n",
    "     validation_data=(x_test, y_test),\n",
    "     epochs=20,\n",
    ")"
   ],
   "metadata": {
    "collapsed": false
   }
  },
  {
   "cell_type": "code",
   "execution_count": 79,
   "outputs": [],
   "source": [
    "model.save('model/sentimen_tweet.h5')"
   ],
   "metadata": {
    "collapsed": false
   }
  },
  {
   "cell_type": "code",
   "execution_count": null,
   "outputs": [],
   "source": [],
   "metadata": {
    "collapsed": false
   }
  }
 ],
 "metadata": {
  "kernelspec": {
   "display_name": "Python 3",
   "language": "python",
   "name": "python3"
  },
  "language_info": {
   "codemirror_mode": {
    "name": "ipython",
    "version": 2
   },
   "file_extension": ".py",
   "mimetype": "text/x-python",
   "name": "python",
   "nbconvert_exporter": "python",
   "pygments_lexer": "ipython2",
   "version": "2.7.6"
  }
 },
 "nbformat": 4,
 "nbformat_minor": 0
}
